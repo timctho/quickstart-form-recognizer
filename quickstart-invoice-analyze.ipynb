{
 "cells": [
  {
   "cell_type": "markdown",
   "source": [
    "## Install Azure Form Recognizer Client Library\n",
    "```\n",
    "pip3 install --upgrade azure-ai-formrecognizer\n",
    "```"
   ],
   "metadata": {}
  },
  {
   "cell_type": "markdown",
   "source": [
    "## Start an analyze request for your local files"
   ],
   "metadata": {}
  },
  {
   "cell_type": "code",
   "execution_count": 4,
   "source": [
    "from azure.core.credentials import AzureKeyCredential\n",
    "from azure.ai.formrecognizer import FormRecognizerClient, FormField\n",
    "\n",
    "FORMRECOGNIZER_ENDPOINT = 'YOUR_ENDPOINT_FROM_CREATED_RESOURCE'\n",
    "FORMRECOGNIZER_KEY = 'YOUR_KEY_FROM_CREATED_RESOURCE'\n",
    "\n",
    "# Initiate client with given endpoint and credential\n",
    "client = FormRecognizerClient(FORMRECOGNIZER_ENDPOINT, AzureKeyCredential(FORMRECOGNIZER_KEY))\n",
    "\n",
    "# Read the sample image file into memory\n",
    "IMAGE_FILE = 'simple-invoice.png'\n",
    "with open(IMAGE_FILE, 'rb') as f:\n",
    "    data = f.read()\n",
    "\n",
    "# Send request to Form Recognizer service to process data\n",
    "task = client.begin_recognize_invoices(data)\n",
    "\n",
    "# Get the analyze result\n",
    "analyze_result = task.result()\n",
    "print(analyze_result)"
   ],
   "outputs": [
    {
     "output_type": "stream",
     "name": "stdout",
     "text": [
      "[RecognizedForm(form_type=prebuilt:invoice, fields={'CustomerAddress': FormField(value_type=string, label_data=None, value_data=FieldData(page_number=1, text=1020 Enterprise Way Sunnayvale, CA 87659, bounding_box=[Point(x=1221.3, y=399.5), Point(x=1567.3, y=401.6), Point(x=1566.8, y=480.1), Point(x=1220.8, y=478.0)], field_elements=None), name=CustomerAddress, value='1020 Enterprise Way Sunnayvale, CA 87659', confidence=0.954), 'CustomerAddressRecipient': FormField(value_type=string, label_data=None, value_data=FieldData(page_number=1, text=Microsoft, bounding_box=[Point(x=1216.0, y=353.0), Point(x=1373.0, y=353.0), Point(x=1373.0, y=384.0), Point(x=1216.0, y=385.0)], field_elements=None), name=CustomerAddressRecipient, value='Microsoft', confidence=0.981), 'CustomerName': FormField(value_type=string, label_data=None, value_data=FieldData(page_number=1, text=Microsoft, bounding_box=[Point(x=1216.0, y=353.0), Point(x=1373.0, y=353.0), Point(x=1373.0, y=384.0), Point(x=1216.0, y=385.0)], field_elements=None), na]\n"
     ]
    }
   ],
   "metadata": {}
  },
  {
   "cell_type": "markdown",
   "source": [
    "## You can also analyze files on internet with urls"
   ],
   "metadata": {}
  },
  {
   "cell_type": "code",
   "execution_count": 5,
   "source": [
    "IMAGE_URL = 'https://raw.githubusercontent.com/Azure-Samples/cognitive-services-REST-api-samples/master/curl/form-recognizer/simple-invoice.png'\n",
    "\n",
    "# Send request to Form Recognizer service to process data\n",
    "task = client.begin_recognize_invoices_from_url(IMAGE_URL)\n",
    "\n",
    "# Get the analyze result\n",
    "analyze_result = task.result()\n",
    "print(analyze_result)"
   ],
   "outputs": [
    {
     "output_type": "stream",
     "name": "stdout",
     "text": [
      "[RecognizedForm(form_type=prebuilt:invoice, fields={'CustomerAddress': FormField(value_type=string, label_data=None, value_data=FieldData(page_number=1, text=1020 Enterprise Way Sunnayvale, CA 87659, bounding_box=[Point(x=1221.3, y=399.5), Point(x=1567.3, y=401.6), Point(x=1566.8, y=480.1), Point(x=1220.8, y=478.0)], field_elements=None), name=CustomerAddress, value='1020 Enterprise Way Sunnayvale, CA 87659', confidence=0.954), 'CustomerAddressRecipient': FormField(value_type=string, label_data=None, value_data=FieldData(page_number=1, text=Microsoft, bounding_box=[Point(x=1216.0, y=353.0), Point(x=1373.0, y=353.0), Point(x=1373.0, y=384.0), Point(x=1216.0, y=385.0)], field_elements=None), name=CustomerAddressRecipient, value='Microsoft', confidence=0.981), 'CustomerName': FormField(value_type=string, label_data=None, value_data=FieldData(page_number=1, text=Microsoft, bounding_box=[Point(x=1216.0, y=353.0), Point(x=1373.0, y=353.0), Point(x=1373.0, y=384.0), Point(x=1216.0, y=385.0)], field_elements=None), na]\n"
     ]
    }
   ],
   "metadata": {}
  },
  {
   "cell_type": "markdown",
   "source": [
    "## Extract information from analyze result"
   ],
   "metadata": {}
  },
  {
   "cell_type": "code",
   "execution_count": 6,
   "source": [
    "def show_field(field):\n",
    "    if field.value_type == 'list':\n",
    "        for sub_field in field.value:\n",
    "            show_field(sub_field)\n",
    "        return\n",
    "    \n",
    "    if field.value_type == 'dictionary':\n",
    "        for sub_field in field.value.values():\n",
    "            show_field(sub_field)\n",
    "        return\n",
    "\n",
    "    if field.value_data is not None:\n",
    "        print('{} | {:<30} | {:<}'.format(field.confidence, field.name, field.value_data.text))\n",
    "    else:\n",
    "        print('{} | {:<30} | {:<}'.format(field.confidence, field.name, field.value))\n",
    "\n",
    "for idx, result in enumerate(analyze_result):\n",
    "    print('Page: {}'.format(idx))\n",
    "    for field in result.fields.values():\n",
    "        show_field(field)"
   ],
   "outputs": [
    {
     "output_type": "stream",
     "name": "stdout",
     "text": [
      "Page: 0\n",
      "0.954 | CustomerAddress                | 1020 Enterprise Way Sunnayvale, CA 87659\n",
      "0.981 | CustomerAddressRecipient       | Microsoft\n",
      "0.981 | CustomerName                   | Microsoft\n",
      "0.981 | DueDate                        | 6/24/2017\n",
      "0.963 | InvoiceDate                    | 6/18/2017\n",
      "0.962 | InvoiceId                      | 34278587\n",
      "0.848 | Amount                         | $56,651.49\n",
      "0.407 | Date                           | 6/18/2017\n",
      "0.598 | ProductCode                    | 34278587\n",
      "0.696 | Tax                            | PT\n",
      "0.946 | VendorAddress                  | 1 Redmond way Suite 6000 Redmond, WA 99243\n",
      "0.981 | VendorName                     | Contoso\n"
     ]
    }
   ],
   "metadata": {}
  }
 ],
 "metadata": {
  "orig_nbformat": 4,
  "language_info": {
   "name": "python",
   "version": "3.8.11",
   "mimetype": "text/x-python",
   "codemirror_mode": {
    "name": "ipython",
    "version": 3
   },
   "pygments_lexer": "ipython3",
   "nbconvert_exporter": "python",
   "file_extension": ".py"
  },
  "kernelspec": {
   "name": "python3",
   "display_name": "Python 3.8.11 64-bit"
  },
  "interpreter": {
   "hash": "4cd7ab41f5fca4b9b44701077e38c5ffd31fe66a6cab21e0214b68d958d0e462"
  }
 },
 "nbformat": 4,
 "nbformat_minor": 2
}