{
 "cells": [
  {
   "cell_type": "code",
   "execution_count": 1,
   "source": [
    "from azure.ai.formrecognizer import FormRecognizerClient, RecognizedForm\n",
    "from azure.core.credentials import AzureKeyCredential"
   ],
   "outputs": [],
   "metadata": {}
  },
  {
   "cell_type": "code",
   "execution_count": 2,
   "source": [
    "FORMRECOGNIZER_ENDPOINT = 'https://fr-usw2.cognitiveservices.azure.com'\n",
    "FORMRECOGNIZER_KEY = '1be1b82af7084c85b6b9c45f6b198d7a'\n",
    "\n",
    "IMAGE_URL = 'https://raw.githubusercontent.com/Azure-Samples/cognitive-services-REST-api-samples/master/curl/form-recognizer/simple-invoice.png'\n",
    "IMAGE_FILE = 'simple-invoice.png'"
   ],
   "outputs": [],
   "metadata": {}
  },
  {
   "cell_type": "code",
   "execution_count": 3,
   "source": [
    "credential = AzureKeyCredential(FORMRECOGNIZER_KEY)\n",
    "client = FormRecognizerClient(FORMRECOGNIZER_ENDPOINT, credential)\n",
    "# task = client.begin_recognize_invoices_from_url(IMAGE_URL)\n",
    "with open(IMAGE_FILE, 'rb') as f:\n",
    "    data = f.read()\n",
    "task = client.begin_recognize_invoices(data)\n",
    "print(task.status())\n",
    "analyze_result = task.result()\n",
    "print(analyze_result)"
   ],
   "outputs": [
    {
     "output_type": "stream",
     "name": "stdout",
     "text": [
      "InProgress\n",
      "[RecognizedForm(form_type=prebuilt:invoice, fields={'CustomerAddress': FormField(value_type=string, label_data=None, value_data=FieldData(page_number=1, text=1020 Enterprise Way Sunnayvale, CA 87659, bounding_box=[Point(x=1221.3, y=399.5), Point(x=1567.3, y=401.6), Point(x=1566.8, y=480.1), Point(x=1220.8, y=478.0)], field_elements=None), name=CustomerAddress, value='1020 Enterprise Way Sunnayvale, CA 87659', confidence=0.954), 'CustomerAddressRecipient': FormField(value_type=string, label_data=None, value_data=FieldData(page_number=1, text=Microsoft, bounding_box=[Point(x=1216.0, y=353.0), Point(x=1373.0, y=353.0), Point(x=1373.0, y=384.0), Point(x=1216.0, y=385.0)], field_elements=None), name=CustomerAddressRecipient, value='Microsoft', confidence=0.981), 'CustomerName': FormField(value_type=string, label_data=None, value_data=FieldData(page_number=1, text=Microsoft, bounding_box=[Point(x=1216.0, y=353.0), Point(x=1373.0, y=353.0), Point(x=1373.0, y=384.0), Point(x=1216.0, y=385.0)], field_elements=None), na]\n"
     ]
    }
   ],
   "metadata": {}
  }
 ],
 "metadata": {
  "orig_nbformat": 4,
  "language_info": {
   "name": "python",
   "version": "3.8.11",
   "mimetype": "text/x-python",
   "codemirror_mode": {
    "name": "ipython",
    "version": 3
   },
   "pygments_lexer": "ipython3",
   "nbconvert_exporter": "python",
   "file_extension": ".py"
  },
  "kernelspec": {
   "name": "python3",
   "display_name": "Python 3.8.11 64-bit"
  },
  "interpreter": {
   "hash": "4cd7ab41f5fca4b9b44701077e38c5ffd31fe66a6cab21e0214b68d958d0e462"
  }
 },
 "nbformat": 4,
 "nbformat_minor": 2
}