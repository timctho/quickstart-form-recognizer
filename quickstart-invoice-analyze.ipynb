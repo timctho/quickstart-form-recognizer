{
 "cells": [
  {
   "cell_type": "code",
   "execution_count": 2,
   "source": [
    "from azure.ai.formrecognizer import FormRecognizerClient, RecognizedForm\r\n",
    "from azure.core.credentials import AzureKeyCredential"
   ],
   "outputs": [],
   "metadata": {}
  },
  {
   "cell_type": "code",
   "execution_count": 3,
   "source": [
    "FORMRECOGNIZER_ENDPOINT = 'https://fr-usw2.cognitiveservices.azure.com'\r\n",
    "FORMRECOGNIZER_KEY = '1be1b82af7084c85b6b9c45f6b198d7a'\r\n",
    "\r\n",
    "IMAGE_URL = 'https://raw.githubusercontent.com/Azure-Samples/cognitive-services-REST-api-samples/master/curl/form-recognizer/simple-invoice.png'\r\n",
    "IMAGE_FILE = 'simple-invoice.png'"
   ],
   "outputs": [],
   "metadata": {}
  },
  {
   "cell_type": "code",
   "execution_count": 4,
   "source": [
    "credential = AzureKeyCredential(FORMRECOGNIZER_KEY)\r\n",
    "client = FormRecognizerClient(FORMRECOGNIZER_ENDPOINT, credential)\r\n",
    "# task = client.begin_recognize_invoices_from_url(IMAGE_URL)\r\n",
    "with open(IMAGE_FILE, 'rb') as f:\r\n",
    "    data = f.read()\r\n",
    "task = client.begin_recognize_invoices(data)\r\n",
    "print(task.status())\r\n",
    "analyze_result = task.result()\r\n",
    "print(analyze_result)"
   ],
   "outputs": [
    {
     "output_type": "stream",
     "name": "stdout",
     "text": [
      "InProgress\n",
      "[RecognizedForm(form_type=prebuilt:invoice, fields={'CustomerAddress': FormField(value_type=string, label_data=None, value_data=FieldData(page_number=1, text=1020 Enterprise Way Sunnayvale, CA 87659, bounding_box=[Point(x=1221.3, y=399.5), Point(x=1567.3, y=401.6), Point(x=1566.8, y=480.1), Point(x=1220.8, y=478.0)], field_elements=None), name=CustomerAddress, value='1020 Enterprise Way Sunnayvale, CA 87659', confidence=0.954), 'CustomerAddressRecipient': FormField(value_type=string, label_data=None, value_data=FieldData(page_number=1, text=Microsoft, bounding_box=[Point(x=1216.0, y=353.0), Point(x=1373.0, y=353.0), Point(x=1373.0, y=384.0), Point(x=1216.0, y=385.0)], field_elements=None), name=CustomerAddressRecipient, value='Microsoft', confidence=0.981), 'CustomerName': FormField(value_type=string, label_data=None, value_data=FieldData(page_number=1, text=Microsoft, bounding_box=[Point(x=1216.0, y=353.0), Point(x=1373.0, y=353.0), Point(x=1373.0, y=384.0), Point(x=1216.0, y=385.0)], field_elements=None), na]\n"
     ]
    }
   ],
   "metadata": {}
  }
 ],
 "metadata": {
  "orig_nbformat": 4,
  "language_info": {
   "name": "python",
   "version": "3.9.5",
   "mimetype": "text/x-python",
   "codemirror_mode": {
    "name": "ipython",
    "version": 3
   },
   "pygments_lexer": "ipython3",
   "nbconvert_exporter": "python",
   "file_extension": ".py"
  },
  "kernelspec": {
   "name": "python3",
   "display_name": "Python 3.9.5 64-bit"
  },
  "interpreter": {
   "hash": "ce1e901da04acbe50dd99cd0d91cb411cb2166c3507dec81ce620981a8df4741"
  }
 },
 "nbformat": 4,
 "nbformat_minor": 2
}